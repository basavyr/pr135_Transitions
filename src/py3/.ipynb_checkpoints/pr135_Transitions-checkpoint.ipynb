{
 "cells": [
  {
   "cell_type": "markdown",
   "metadata": {},
   "source": [
    "# $^{135}$Pr - Transition probabilities\n",
    "## Numerical calculus\n",
    "### Author: Robert Poenaru"
   ]
  },
  {
   "cell_type": "markdown",
   "metadata": {},
   "source": [
    "Algorithm for calculating the transition probabilities for the isotope. \n",
    "\n",
    "Experimental data taken from **TO BE DETERMINED**"
   ]
  },
  {
   "cell_type": "code",
   "execution_count": 11,
   "metadata": {},
   "outputs": [],
   "source": [
    "import numpy as np\n",
    "from matplotlib import pyplot as plt\n",
    "from scipy import special as sp\n",
    "from matplotlib import rc"
   ]
  },
  {
   "cell_type": "markdown",
   "metadata": {},
   "source": [
    "## Define the prerequisite methods used in the elliptic variables\n",
    "* the angular momentum components $j_1,j_2$\n",
    "* the inertia function $A$, where $A=f(I,j_2,A_1,A_2)$\n",
    "* the 2nd component of the odd particle's a.m. $j_2$ is a function $j_2=g(j,\\theta)$\n",
    "\n",
    "> $A=f(I,g(j,\\theta),A_1,A_2)$"
   ]
  },
  {
   "cell_type": "code",
   "execution_count": 12,
   "metadata": {},
   "outputs": [],
   "source": [
    "# define the inertia factors A1, A2, A3\n",
    "def inertiaFactor(mois):\n",
    "    a1=1.0/(2.0*mois[0])\n",
    "    a2=1.0/(2.0*mois[1])\n",
    "    a3=1.0/(2.0*mois[2])\n",
    "    factors=(a1,a2,a3)\n",
    "    return factors\n",
    "# define the components of the angular momenta $j$ for the odd-particle\n",
    "def jComponent(oddSpin,theta):\n",
    "    thetaDegrees=theta*np.pi/180.0\n",
    "    j1=oddSpin*np.cos(thetaDegrees)\n",
    "    j2=oddSpin*np.sin(thetaDegrees)\n",
    "    jcomp=(j1,j2)\n",
    "    return jcomp\n",
    "#define the inertial function\n",
    "def aFct(spin,oddSpin,theta,mois):\n",
    "    j2=jComponent(oddSpin,theta)[1]\n",
    "    a1=inertiaFactor(mois)[0]\n",
    "    a2=inertiaFactor(mois)[1]\n",
    "    term=a2*(1.0-j2/spin)-a1\n",
    "    return term"
   ]
  },
  {
   "cell_type": "markdown",
   "metadata": {},
   "source": [
    "## Defining the elliptic variables\n",
    "* $u=f(A,A_1,A_3)$\n",
    "* $v_0=f(A,A_1,j_1)$"
   ]
  },
  {
   "cell_type": "code",
   "execution_count": 13,
   "metadata": {},
   "outputs": [],
   "source": [
    "#define the variabile u\n",
    "def u(spin,oddSpin,theta,mois):\n",
    "    a3=inertiaFactor(mois)[2]\n",
    "    a1=inertiaFactor(mois)[0]\n",
    "    a=aFct(spin,oddSpin,theta,mois)\n",
    "    term=(a3-a1)/a\n",
    "    return term\n",
    "\n",
    "#define the variabile v0\n",
    "def vZero(spin,oddSpin,theta,mois):\n",
    "    a1=inertiaFactor(mois)[0]\n",
    "    j1-Jcomponent(oddSpin,theta)[0]\n",
    "    a=aFct(spin,oddSpin,theta,mois)\n",
    "    term=a1*j1/a\n",
    "    return (-1.0)*term\n",
    "\n",
    "#define the variable k\n",
    "def k(spin,oddSpin,theta, mois):\n",
    "    return np.sqrt(u(spin,oddSpin,theta,mois))\n",
    "\n",
    "#define the wobbling frequency\n",
    "def omega(spin,oddSpin,theta,mois):\n",
    "    j1=jComponent(oddSpin,theta)[0]\n",
    "    j2=jComponent(oddSpin,theta)[1]\n",
    "    a1=inertiaFactor(mois)[0]\n",
    "    a2=inertiaFactor(mois)[1]\n",
    "    a3=inertiaFactor(mois)[2]\n",
    "    term1=(2.0*spin+1.0)*(a2-a1-(a2*j2)/spin)-2*a1*j1\n",
    "    term2=(2.0*spin+1.0)*(a3-a1)-2.0*a1*j1\n",
    "    term3=(a3-a1)*(a2-a1-a2*j2/spin)\n",
    "    result=np.sqrt(term1*term2-term3)\n",
    "    return result\n",
    "\n",
    "def omegaPrime(spin,oddSpin,theta,mois):\n",
    "    j1=jComponent(oddSpin,theta)[0]\n",
    "    j2=jComponent(oddSpin,theta)[1]\n",
    "    a1=inertiaFactor(mois)[0]\n",
    "    a2=inertiaFactor(mois)[1]\n",
    "    a3=inertiaFactor(mois)[2]\n",
    "    term1=(2.0*spin+1.0)*(a2-a1-(a2*j2)/spin)+2*a1*j1\n",
    "    term2=(2.0*spin+1.0)*(a3-a1)+2.0*a1*j1\n",
    "    term3=(a3-a1)*(a2-a1-a2*j2/spin)\n",
    "    result=np.sqrt(term1*term2-term3)\n",
    "    return result\n",
    "\n",
    "def omegaBar(spin,oddSpin,theta,mois):\n",
    "    a=aFct(spin,oddSpin,theta,mois)\n",
    "    omg=omega(spin,oddSpin,theta,mois)\n",
    "    return omg/a"
   ]
  },
  {
   "cell_type": "markdown",
   "metadata": {},
   "source": [
    "## Testing the wobbling frequencies\n",
    "$$\\omega_I^\\theta$$\n",
    "> the wobbling frequency for $\\theta=20^o$: \n",
    "\n",
    "$$\\omega_I^{20}$$"
   ]
  },
  {
   "cell_type": "code",
   "execution_count": 40,
   "metadata": {},
   "outputs": [],
   "source": [
    "def omegaPrinter(theta):\n",
    "    omegas=[]\n",
    "    spins=np.arange(5.0,35.0,0.1)\n",
    "    mois=(129,3,52)\n",
    "    j=11/2\n",
    "    for i in spins:\n",
    "        currentomega=omega(i,j,theta,mois)\n",
    "        omegas.append(currentomega)\n",
    "    return omegas"
   ]
  },
  {
   "cell_type": "code",
   "execution_count": 43,
   "metadata": {},
   "outputs": [
    {
     "data": {
      "image/png": "[encoded data removed]",
      "text/plain": [
       "<Figure size 432x288 with 1 Axes>"
      ]
     },
     "metadata": {
      "needs_background": "light"
     },
     "output_type": "display_data"
    }
   ],
   "source": [
    "spins=np.arange(5.0,35.0,0.1)\n",
    "omegas20=omegaPrinter(20)\n",
    "plt.plot(spins,omegas20)\n",
    "plt.show()"
   ]
  },
  {
   "cell_type": "markdown",
   "metadata": {},
   "source": [
    "> the wobbling frequency for $\\theta=-160^o$: \n",
    "\n",
    "$$\\omega_I^{-160}$$"
   ]
  },
  {
   "cell_type": "code",
   "execution_count": 44,
   "metadata": {},
   "outputs": [
    {
     "data": {
      "image/png": "[encoded data removed]",
      "text/plain": [
       "<Figure size 432x288 with 1 Axes>"
      ]
     },
     "metadata": {
      "needs_background": "light"
     },
     "output_type": "display_data"
    }
   ],
   "source": [
    "omegas160=omegaPrinter(-160)\n",
    "plt.plot(spins,omegas160,'r-')\n",
    "plt.show()"
   ]
  },
  {
   "cell_type": "markdown",
   "metadata": {},
   "source": [
    "## Define the Dirac-Delta function"
   ]
  },
  {
   "cell_type": "code",
   "execution_count": 15,
   "metadata": {},
   "outputs": [],
   "source": [
    "def diracDelta(x,y):\n",
    "    if(x==y):\n",
    "        return 1\n",
    "    else:\n",
    "        return 0"
   ]
  },
  {
   "cell_type": "markdown",
   "metadata": {},
   "source": [
    "Testing the Dirac-Delta function"
   ]
  },
  {
   "cell_type": "code",
   "execution_count": 16,
   "metadata": {},
   "outputs": [
    {
     "name": "stdout",
     "output_type": "stream",
     "text": [
      "we NOT good\n"
     ]
    }
   ],
   "source": [
    "m=(4,5)\n",
    "if(diracDelta(m[0],m[1])):\n",
    "    print(\"we good\")\n",
    "else:\n",
    "    print(\"we NOT good\")"
   ]
  },
  {
   "cell_type": "markdown",
   "metadata": {},
   "source": [
    "## norm and oscillator length methods"
   ]
  },
  {
   "cell_type": "code",
   "execution_count": 17,
   "metadata": {},
   "outputs": [],
   "source": [
    "def oscLength(spin,oddSpin,theta,mois):\n",
    "    omBar=omegaBar(spin,oddSpin,theta,mois)\n",
    "    result=np.sqrt(2.0/omBar)\n",
    "    return result\n",
    "\n",
    "def cNorm(spin,oddSpin,theta, mois):\n",
    "    ct=np.sqrt(2.0/np.pi)\n",
    "    term=1.0/oscLength(spin,oddSpin,theta,mois)\n",
    "    return ct*term"
   ]
  },
  {
   "cell_type": "markdown",
   "metadata": {},
   "source": [
    "# Define the quadrupole moments"
   ]
  },
  {
   "cell_type": "markdown",
   "metadata": {},
   "source": [
    "### Define the $Q_0$ term for transitions of the type\n",
    "> $$\\langle\\Phi_{I',-I'}|Q_0|\\Phi_{I,I-1}\\rangle$$\n",
    "> NOTATION: $$Q01$$\n",
    "> $$I' \\to\\ spin1$$\n",
    "> $$I \\to\\ spin2$$"
   ]
  },
  {
   "cell_type": "code",
   "execution_count": 18,
   "metadata": {},
   "outputs": [
    {
     "ename": "SyntaxError",
     "evalue": "invalid syntax (<ipython-input-18-a75fec389686>, line 1)",
     "output_type": "error",
     "traceback": [
      "\u001b[0;36m  File \u001b[0;32m\"<ipython-input-18-a75fec389686>\"\u001b[0;36m, line \u001b[0;32m1\u001b[0m\n\u001b[0;31m    def Q01(spin1,spin2,)\u001b[0m\n\u001b[0m                         ^\u001b[0m\n\u001b[0;31mSyntaxError\u001b[0m\u001b[0;31m:\u001b[0m invalid syntax\n"
     ]
    }
   ],
   "source": [
    "def Q01(spin1,spin2):\n",
    "    delta=diractDelta(spin2,spin1)\n",
    "    ombar1=omegaBar(spin1,)\n",
    "    c1=4*np.sqrt(6)\n",
    "    t1=np.sqrt()"
   ]
  }
 ],
 "metadata": {
  "kernelspec": {
   "display_name": "Python 3.7.6 64-bit",
   "language": "python",
   "name": "python37664bitca4067d99ba64e6e9495a04a073a50f6"
  },
  "language_info": {
   "codemirror_mode": {
    "name": "ipython",
    "version": 3
   },
   "file_extension": ".py",
   "mimetype": "text/x-python",
   "name": "python",
   "nbconvert_exporter": "python",
   "pygments_lexer": "ipython3",
   "version": "3.7.7"
  }
 },
 "nbformat": 4,
 "nbformat_minor": 4
}
